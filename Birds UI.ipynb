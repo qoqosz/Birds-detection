{
 "cells": [
  {
   "cell_type": "code",
   "execution_count": null,
   "id": "c55e1b6b-a905-4538-973c-1689b9e4fbe6",
   "metadata": {},
   "outputs": [],
   "source": [
    "import cv2\n",
    "import glob\n",
    "import io\n",
    "import ipywidgets as widgets\n",
    "from pathlib import Path\n",
    "from IPython.display import display\n",
    "from birds import BirdsImage"
   ]
  },
  {
   "cell_type": "code",
   "execution_count": null,
   "id": "cbd7482d-b07f-4f5a-a5d7-a26d1af5ce34",
   "metadata": {},
   "outputs": [],
   "source": [
    "image_files = list(glob.glob('photos/*'))\n",
    "\n",
    "# UI\n",
    "dropdown = widgets.Dropdown(\n",
    "    options=image_files,\n",
    "    value=image_files[0],\n",
    "    description='Photo:',\n",
    ")\n",
    "slider = widgets.IntSlider(\n",
    "    value=127,\n",
    "    min=0,\n",
    "    max=255,\n",
    "    step=1,\n",
    "    description='Threshold:',\n",
    "    orientation='horizontal',\n",
    ")\n",
    "label = widgets.Label()\n",
    "image = widgets.Image(value=b'', format='jpg')\n",
    "grid = widgets.GridBox(\n",
    "    children=[dropdown, slider, label, image], \n",
    "    layout=widgets.Layout(grid_template_rows='auto')\n",
    ")\n",
    "\n",
    "def render(path, thresh):\n",
    "    birds = BirdsImage(filename=path, thresh=thresh)\n",
    "    birds.fit()\n",
    "    side_by_side = birds.side_by_side()\n",
    "    format_ = Path(path).suffix\n",
    "\n",
    "    return (birds.count, cv2.imencode(format_, side_by_side)[1].tobytes())\n",
    "\n",
    "def on_user_input(change):\n",
    "    cnt, img = render(dropdown.value, int(slider.value))\n",
    "    birds = 'bird' if cnt == 1 else 'birds'\n",
    "    label.value = f'Counted: {cnt} {birds} [thresh={slider.value}]'\n",
    "    image.value = img\n",
    "\n",
    "slider.observe(on_user_input)\n",
    "dropdown.observe(on_user_input)\n",
    "on_user_input(None)\n",
    "\n",
    "display(grid)"
   ]
  }
 ],
 "metadata": {
  "kernelspec": {
   "display_name": "Python 3 (ipykernel)",
   "language": "python",
   "name": "python3"
  },
  "language_info": {
   "codemirror_mode": {
    "name": "ipython",
    "version": 3
   },
   "file_extension": ".py",
   "mimetype": "text/x-python",
   "name": "python",
   "nbconvert_exporter": "python",
   "pygments_lexer": "ipython3",
   "version": "3.11.9"
  }
 },
 "nbformat": 4,
 "nbformat_minor": 5
}
